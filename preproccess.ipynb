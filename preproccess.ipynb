{
 "cells": [
  {
   "cell_type": "markdown",
   "metadata": {},
   "source": [
    "<h1 align=center style=\"line-height:200%;font-family:vazir;color:#0099cc\">\n",
    "<font face=\"vazir\" color=\"#0099cc\">\n",
    "Diabetes Prediction for Pima Women\n",
    "</font>\n",
    "</h1>"
   ]
  },
  {
   "cell_type": "markdown",
   "metadata": {},
   "source": [
    "\n",
    "<p dir=rtl style=\"direction: ltr ;text-align: justify;line-height:200%;font-family:vazir;font-size:medium\">\n",
    "<font face=\"vazir\" size=2.5>\n",
    "    The objective of this dataset is to build a predictive model for diagnosing diabetes in female patients who are at least 21 years old and of Pima Indian heritage. The model should predict whether a patient has diabetes (Outcome = 1) or does not have diabetes (Outcome = 0) based on several diagnostic measurements, including glucose level, blood pressure, skin thickness, insulin level, BMI, diabetes pedigree function, and age.\n",
    "</font>\n",
    "</p>"
   ]
  },
  {
   "cell_type": "markdown",
   "metadata": {},
   "source": [
    "<h2 align=left style=\"line-height:200%;font-family:vazir;color:#0099cc\">\n",
    "<font face=\"vazir\" color=\"#0099cc\">\n",
    "Librarys\n",
    "</font>\n",
    "</h2>\n",
    "<p dir=rtl style=\"direction: ltr ;text-align: justify;line-height:200%;font-family:vazir;font-size:medium\">\n",
    "<font face=\"vazir\" size=3>\n",
    "    Import required libraries : \n",
    "</font>\n",
    "</p>"
   ]
  },
  {
   "cell_type": "code",
   "execution_count": 25,
   "metadata": {},
   "outputs": [],
   "source": [
    "import numpy as np\n",
    "import pandas as pd\n",
    "from sklearn.preprocessing import StandardScaler\n",
    "from sklearn.model_selection import train_test_split"
   ]
  },
  {
   "cell_type": "markdown",
   "metadata": {},
   "source": [
    "<h2 align=left style=\"line-height:200%;font-family:vazir;color:#0099cc\">\n",
    "<font face=\"vazir\" color=\"#0099cc\">\n",
    "Read data\n",
    "</font>\n",
    "</h2>\n",
    "<p dir=rtl style=\"direction: ltr ;text-align: justify;line-height:200%;font-family:vazir;font-size:medium\">\n",
    "<font face=\"vazir\" size=3>\n",
    "    From csv file read diabetes data :\n",
    "</font>\n",
    "</p>"
   ]
  },
  {
   "cell_type": "code",
   "execution_count": 4,
   "metadata": {},
   "outputs": [
    {
     "data": {
      "text/html": [
       "<div>\n",
       "<style scoped>\n",
       "    .dataframe tbody tr th:only-of-type {\n",
       "        vertical-align: middle;\n",
       "    }\n",
       "\n",
       "    .dataframe tbody tr th {\n",
       "        vertical-align: top;\n",
       "    }\n",
       "\n",
       "    .dataframe thead th {\n",
       "        text-align: right;\n",
       "    }\n",
       "</style>\n",
       "<table border=\"1\" class=\"dataframe\">\n",
       "  <thead>\n",
       "    <tr style=\"text-align: right;\">\n",
       "      <th></th>\n",
       "      <th>Pregnancies</th>\n",
       "      <th>Glucose</th>\n",
       "      <th>BloodPressure</th>\n",
       "      <th>SkinThickness</th>\n",
       "      <th>Insulin</th>\n",
       "      <th>BMI</th>\n",
       "      <th>DiabetesPedigreeFunction</th>\n",
       "      <th>Age</th>\n",
       "      <th>Diagnosis</th>\n",
       "    </tr>\n",
       "  </thead>\n",
       "  <tbody>\n",
       "    <tr>\n",
       "      <th>0</th>\n",
       "      <td>2</td>\n",
       "      <td>115.863387</td>\n",
       "      <td>56.410731</td>\n",
       "      <td>24.336736</td>\n",
       "      <td>94.385783</td>\n",
       "      <td>26.455940</td>\n",
       "      <td>0.272682</td>\n",
       "      <td>20.100494</td>\n",
       "      <td>0</td>\n",
       "    </tr>\n",
       "    <tr>\n",
       "      <th>1</th>\n",
       "      <td>2</td>\n",
       "      <td>92.490122</td>\n",
       "      <td>70.615520</td>\n",
       "      <td>23.443591</td>\n",
       "      <td>138.652426</td>\n",
       "      <td>23.910167</td>\n",
       "      <td>0.665160</td>\n",
       "      <td>44.912281</td>\n",
       "      <td>0</td>\n",
       "    </tr>\n",
       "    <tr>\n",
       "      <th>2</th>\n",
       "      <td>1</td>\n",
       "      <td>88.141469</td>\n",
       "      <td>63.262618</td>\n",
       "      <td>23.404364</td>\n",
       "      <td>149.358082</td>\n",
       "      <td>21.948250</td>\n",
       "      <td>0.676022</td>\n",
       "      <td>48.247873</td>\n",
       "      <td>1</td>\n",
       "    </tr>\n",
       "    <tr>\n",
       "      <th>3</th>\n",
       "      <td>2</td>\n",
       "      <td>108.453101</td>\n",
       "      <td>67.793632</td>\n",
       "      <td>20.751580</td>\n",
       "      <td>108.751638</td>\n",
       "      <td>24.209304</td>\n",
       "      <td>0.289636</td>\n",
       "      <td>42.749868</td>\n",
       "      <td>0</td>\n",
       "    </tr>\n",
       "    <tr>\n",
       "      <th>4</th>\n",
       "      <td>1</td>\n",
       "      <td>127.849443</td>\n",
       "      <td>94.725685</td>\n",
       "      <td>22.603078</td>\n",
       "      <td>25.269987</td>\n",
       "      <td>32.997477</td>\n",
       "      <td>0.601315</td>\n",
       "      <td>32.797789</td>\n",
       "      <td>0</td>\n",
       "    </tr>\n",
       "  </tbody>\n",
       "</table>\n",
       "</div>"
      ],
      "text/plain": [
       "   Pregnancies     Glucose  BloodPressure  SkinThickness     Insulin  \\\n",
       "0            2  115.863387      56.410731      24.336736   94.385783   \n",
       "1            2   92.490122      70.615520      23.443591  138.652426   \n",
       "2            1   88.141469      63.262618      23.404364  149.358082   \n",
       "3            2  108.453101      67.793632      20.751580  108.751638   \n",
       "4            1  127.849443      94.725685      22.603078   25.269987   \n",
       "\n",
       "         BMI  DiabetesPedigreeFunction        Age  Diagnosis  \n",
       "0  26.455940                  0.272682  20.100494          0  \n",
       "1  23.910167                  0.665160  44.912281          0  \n",
       "2  21.948250                  0.676022  48.247873          1  \n",
       "3  24.209304                  0.289636  42.749868          0  \n",
       "4  32.997477                  0.601315  32.797789          0  "
      ]
     },
     "execution_count": 4,
     "metadata": {},
     "output_type": "execute_result"
    }
   ],
   "source": [
    "df = pd.read_csv('Diabetes_prediction.csv')\n",
    "df.head()"
   ]
  },
  {
   "cell_type": "markdown",
   "metadata": {},
   "source": [
    "<p dir=rtl style=\"direction: ltr ;text-align: justify;line-height:200%;font-family:vazir;font-size:medium\">\n",
    "<font face=\"vazir\" size=3>\n",
    "    Convert float value to int except DiabetesPedigreeFunction :\n",
    "</font>\n",
    "</p>"
   ]
  },
  {
   "cell_type": "code",
   "execution_count": 6,
   "metadata": {},
   "outputs": [
    {
     "data": {
      "text/html": [
       "<div>\n",
       "<style scoped>\n",
       "    .dataframe tbody tr th:only-of-type {\n",
       "        vertical-align: middle;\n",
       "    }\n",
       "\n",
       "    .dataframe tbody tr th {\n",
       "        vertical-align: top;\n",
       "    }\n",
       "\n",
       "    .dataframe thead th {\n",
       "        text-align: right;\n",
       "    }\n",
       "</style>\n",
       "<table border=\"1\" class=\"dataframe\">\n",
       "  <thead>\n",
       "    <tr style=\"text-align: right;\">\n",
       "      <th></th>\n",
       "      <th>Pregnancies</th>\n",
       "      <th>Glucose</th>\n",
       "      <th>BloodPressure</th>\n",
       "      <th>SkinThickness</th>\n",
       "      <th>Insulin</th>\n",
       "      <th>BMI</th>\n",
       "      <th>DiabetesPedigreeFunction</th>\n",
       "      <th>Age</th>\n",
       "      <th>Diagnosis</th>\n",
       "    </tr>\n",
       "  </thead>\n",
       "  <tbody>\n",
       "    <tr>\n",
       "      <th>0</th>\n",
       "      <td>2</td>\n",
       "      <td>116</td>\n",
       "      <td>56</td>\n",
       "      <td>24</td>\n",
       "      <td>94</td>\n",
       "      <td>26</td>\n",
       "      <td>0.272682</td>\n",
       "      <td>20</td>\n",
       "      <td>0</td>\n",
       "    </tr>\n",
       "    <tr>\n",
       "      <th>1</th>\n",
       "      <td>2</td>\n",
       "      <td>92</td>\n",
       "      <td>71</td>\n",
       "      <td>23</td>\n",
       "      <td>139</td>\n",
       "      <td>24</td>\n",
       "      <td>0.665160</td>\n",
       "      <td>45</td>\n",
       "      <td>0</td>\n",
       "    </tr>\n",
       "    <tr>\n",
       "      <th>2</th>\n",
       "      <td>1</td>\n",
       "      <td>88</td>\n",
       "      <td>63</td>\n",
       "      <td>23</td>\n",
       "      <td>149</td>\n",
       "      <td>22</td>\n",
       "      <td>0.676022</td>\n",
       "      <td>48</td>\n",
       "      <td>1</td>\n",
       "    </tr>\n",
       "    <tr>\n",
       "      <th>3</th>\n",
       "      <td>2</td>\n",
       "      <td>108</td>\n",
       "      <td>68</td>\n",
       "      <td>21</td>\n",
       "      <td>109</td>\n",
       "      <td>24</td>\n",
       "      <td>0.289636</td>\n",
       "      <td>43</td>\n",
       "      <td>0</td>\n",
       "    </tr>\n",
       "    <tr>\n",
       "      <th>4</th>\n",
       "      <td>1</td>\n",
       "      <td>128</td>\n",
       "      <td>95</td>\n",
       "      <td>23</td>\n",
       "      <td>25</td>\n",
       "      <td>33</td>\n",
       "      <td>0.601315</td>\n",
       "      <td>33</td>\n",
       "      <td>0</td>\n",
       "    </tr>\n",
       "    <tr>\n",
       "      <th>...</th>\n",
       "      <td>...</td>\n",
       "      <td>...</td>\n",
       "      <td>...</td>\n",
       "      <td>...</td>\n",
       "      <td>...</td>\n",
       "      <td>...</td>\n",
       "      <td>...</td>\n",
       "      <td>...</td>\n",
       "      <td>...</td>\n",
       "    </tr>\n",
       "    <tr>\n",
       "      <th>995</th>\n",
       "      <td>1</td>\n",
       "      <td>103</td>\n",
       "      <td>41</td>\n",
       "      <td>25</td>\n",
       "      <td>44</td>\n",
       "      <td>26</td>\n",
       "      <td>0.455884</td>\n",
       "      <td>20</td>\n",
       "      <td>0</td>\n",
       "    </tr>\n",
       "    <tr>\n",
       "      <th>996</th>\n",
       "      <td>1</td>\n",
       "      <td>61</td>\n",
       "      <td>64</td>\n",
       "      <td>25</td>\n",
       "      <td>112</td>\n",
       "      <td>19</td>\n",
       "      <td>0.250560</td>\n",
       "      <td>44</td>\n",
       "      <td>1</td>\n",
       "    </tr>\n",
       "    <tr>\n",
       "      <th>997</th>\n",
       "      <td>0</td>\n",
       "      <td>98</td>\n",
       "      <td>64</td>\n",
       "      <td>22</td>\n",
       "      <td>108</td>\n",
       "      <td>23</td>\n",
       "      <td>0.761463</td>\n",
       "      <td>59</td>\n",
       "      <td>1</td>\n",
       "    </tr>\n",
       "    <tr>\n",
       "      <th>998</th>\n",
       "      <td>0</td>\n",
       "      <td>67</td>\n",
       "      <td>56</td>\n",
       "      <td>25</td>\n",
       "      <td>220</td>\n",
       "      <td>32</td>\n",
       "      <td>0.382877</td>\n",
       "      <td>47</td>\n",
       "      <td>0</td>\n",
       "    </tr>\n",
       "    <tr>\n",
       "      <th>999</th>\n",
       "      <td>0</td>\n",
       "      <td>88</td>\n",
       "      <td>69</td>\n",
       "      <td>26</td>\n",
       "      <td>134</td>\n",
       "      <td>31</td>\n",
       "      <td>0.605828</td>\n",
       "      <td>42</td>\n",
       "      <td>1</td>\n",
       "    </tr>\n",
       "  </tbody>\n",
       "</table>\n",
       "<p>1000 rows × 9 columns</p>\n",
       "</div>"
      ],
      "text/plain": [
       "     Pregnancies  Glucose  BloodPressure  SkinThickness  Insulin  BMI  \\\n",
       "0              2      116             56             24       94   26   \n",
       "1              2       92             71             23      139   24   \n",
       "2              1       88             63             23      149   22   \n",
       "3              2      108             68             21      109   24   \n",
       "4              1      128             95             23       25   33   \n",
       "..           ...      ...            ...            ...      ...  ...   \n",
       "995            1      103             41             25       44   26   \n",
       "996            1       61             64             25      112   19   \n",
       "997            0       98             64             22      108   23   \n",
       "998            0       67             56             25      220   32   \n",
       "999            0       88             69             26      134   31   \n",
       "\n",
       "     DiabetesPedigreeFunction  Age  Diagnosis  \n",
       "0                    0.272682   20          0  \n",
       "1                    0.665160   45          0  \n",
       "2                    0.676022   48          1  \n",
       "3                    0.289636   43          0  \n",
       "4                    0.601315   33          0  \n",
       "..                        ...  ...        ...  \n",
       "995                  0.455884   20          0  \n",
       "996                  0.250560   44          1  \n",
       "997                  0.761463   59          1  \n",
       "998                  0.382877   47          0  \n",
       "999                  0.605828   42          1  \n",
       "\n",
       "[1000 rows x 9 columns]"
      ]
     },
     "execution_count": 6,
     "metadata": {},
     "output_type": "execute_result"
    }
   ],
   "source": [
    "def to_int(row):\n",
    "    return row.apply(lambda x : round(x))\n",
    "\n",
    "DiabetesPedigreeFunction = df['DiabetesPedigreeFunction']\n",
    "df = df.apply(to_int)\n",
    "df['DiabetesPedigreeFunction'] = DiabetesPedigreeFunction\n",
    "df"
   ]
  },
  {
   "cell_type": "markdown",
   "metadata": {},
   "source": [
    "<p dir=rtl style=\"direction: ltr ;text-align: justify;line-height:200%;font-family:vazir;font-size:medium\">\n",
    "<font face=\"vazir\" size=3>\n",
    "    Convert dataframe type to numpy array :\n",
    "</font>\n",
    "</p>"
   ]
  },
  {
   "cell_type": "code",
   "execution_count": 28,
   "metadata": {},
   "outputs": [
    {
     "data": {
      "text/plain": [
       "array([[  2.        , 116.        ,  56.        , ...,  26.        ,\n",
       "          0.2726819 ,  20.        ],\n",
       "       [  2.        ,  92.        ,  71.        , ...,  24.        ,\n",
       "          0.66515966,  45.        ],\n",
       "       [  1.        ,  88.        ,  63.        , ...,  22.        ,\n",
       "          0.67602165,  48.        ],\n",
       "       ...,\n",
       "       [  0.        ,  98.        ,  64.        , ...,  23.        ,\n",
       "          0.76146319,  59.        ],\n",
       "       [  0.        ,  67.        ,  56.        , ...,  32.        ,\n",
       "          0.38287689,  47.        ],\n",
       "       [  0.        ,  88.        ,  69.        , ...,  31.        ,\n",
       "          0.60582821,  42.        ]])"
      ]
     },
     "execution_count": 28,
     "metadata": {},
     "output_type": "execute_result"
    }
   ],
   "source": [
    "x = np.array(df.iloc[:, 0:8])\n",
    "y = np.array(df.iloc[:,8])\n",
    "x"
   ]
  },
  {
   "cell_type": "markdown",
   "metadata": {},
   "source": [
    "<h2 align=left style=\"line-height:200%;font-family:vazir;color:#0099cc\">\n",
    "<font face=\"vazir\" color=\"#0099cc\">\n",
    "Normalize\n",
    "</font>\n",
    "</h2>\n",
    "<p dir=rtl style=\"direction: ltr ;text-align: justify;line-height:200%;font-family:vazir;font-size:medium\">\n",
    "<font face=\"vazir\" size=3>\n",
    "    We normalize all data by scaler from sklearn :\n",
    "</font>\n",
    "</p>"
   ]
  },
  {
   "cell_type": "code",
   "execution_count": 29,
   "metadata": {},
   "outputs": [
    {
     "data": {
      "text/plain": [
       "array([[ 0.16916344,  0.85112643, -1.16387648, ...,  0.15374092,\n",
       "        -0.88689813, -1.60935961],\n",
       "       [ 0.16916344, -0.38253913, -0.08461417, ..., -0.3885551 ,\n",
       "         1.08302816,  0.11927585],\n",
       "       [-0.56954153, -0.58815006, -0.66022073, ..., -0.93085112,\n",
       "         1.13754671,  0.3267121 ],\n",
       "       ...,\n",
       "       [-1.30824649, -0.07412274, -0.58826991, ..., -0.65970311,\n",
       "         1.56639535,  1.0873117 ],\n",
       "       [-1.30824649, -1.66760742, -1.16387648, ...,  1.78062898,\n",
       "        -0.33380688,  0.25756668],\n",
       "       [-1.30824649, -0.58815006, -0.22851581, ...,  1.50948097,\n",
       "         0.78523145, -0.08816041]])"
      ]
     },
     "execution_count": 29,
     "metadata": {},
     "output_type": "execute_result"
    }
   ],
   "source": [
    "scaler = StandardScaler()\n",
    "x = scaler.fit_transform(X=x)\n",
    "x"
   ]
  },
  {
   "cell_type": "markdown",
   "metadata": {},
   "source": [
    "<p dir=rtl style=\"direction: ltr ;text-align: justify;line-height:200%;font-family:vazir;font-size:medium\">\n",
    "<font face=\"vazir\" size=3>\n",
    "    We split train and test data by train_test_split from sklearn :\n",
    "</font>\n",
    "</p>"
   ]
  },
  {
   "cell_type": "code",
   "execution_count": 30,
   "metadata": {},
   "outputs": [
    {
     "data": {
      "text/plain": [
       "(200, 8)"
      ]
     },
     "execution_count": 30,
     "metadata": {},
     "output_type": "execute_result"
    }
   ],
   "source": [
    "X_train, X_test, y_train, y_test = train_test_split(x,y,test_size=0.2)\n",
    "X_test.shape"
   ]
  },
  {
   "cell_type": "markdown",
   "metadata": {},
   "source": [
    "<p dir=rtl style=\"direction: ltr ;text-align: justify;line-height:200%;font-family:vazir;font-size:medium\">\n",
    "<font face=\"vazir\" size=3>\n",
    "    Save data to numpy file array :\n",
    "</font>\n",
    "</p>"
   ]
  },
  {
   "cell_type": "code",
   "execution_count": 31,
   "metadata": {},
   "outputs": [],
   "source": [
    "np.save('X_train.npy',X_train)\n",
    "np.save('y_train.npy',y_train)\n",
    "np.save('X_test.npy',X_test)\n",
    "np.save('y_test.npy',y_test)"
   ]
  }
 ],
 "metadata": {
  "kernelspec": {
   "display_name": "qenv",
   "language": "python",
   "name": "python3"
  },
  "language_info": {
   "codemirror_mode": {
    "name": "ipython",
    "version": 3
   },
   "file_extension": ".py",
   "mimetype": "text/x-python",
   "name": "python",
   "nbconvert_exporter": "python",
   "pygments_lexer": "ipython3",
   "version": "3.9.10"
  }
 },
 "nbformat": 4,
 "nbformat_minor": 2
}
